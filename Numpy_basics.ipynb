{
  "nbformat": 4,
  "nbformat_minor": 0,
  "metadata": {
    "colab": {
      "provenance": []
    },
    "kernelspec": {
      "name": "python3",
      "display_name": "Python 3"
    },
    "language_info": {
      "name": "python"
    }
  },
  "cells": [
    {
      "cell_type": "code",
      "execution_count": null,
      "metadata": {
        "colab": {
          "base_uri": "https://localhost:8080/"
        },
        "id": "dRmGVX0w2ZuF",
        "outputId": "9751756f-ca76-4f82-aec5-f4e7d0d90540"
      },
      "outputs": [
        {
          "output_type": "stream",
          "name": "stdout",
          "text": [
            "[[45  4  2]\n",
            " [46  4  2]]\n"
          ]
        },
        {
          "output_type": "execute_result",
          "data": {
            "text/plain": [
              "(2, 3, 5)"
            ]
          },
          "metadata": {},
          "execution_count": 1
        }
      ],
      "source": [
        "import numpy as np\n",
        "\n",
        "#1D Array\n",
        "\n",
        "arr1=np.array([1,2,3,45,True])\n",
        "# arr1[4]\n",
        "# 2D Array\n",
        "\n",
        "arr2=np.array([[1,2,3,45,5],[2,3,3,4,5],[2,3,4,2,1]])\n",
        "arr2[:,3]\n",
        "# 3D Array\n",
        "\n",
        "arr3=np.array([[[1,2,3,45,5],[2,3,3,4,5],[2,3,4,2,1]],[[1,2,3,46,5],[2,3,3,4,5],[2,3,4,2,1]]])\n",
        "print(arr3[:,:,3])\n",
        "#To get the dimention of an array\n",
        "arr2.ndim\n",
        "# To get the shape of an array\n",
        "arr3.shape"
      ]
    },
    {
      "cell_type": "code",
      "source": [
        "# 5 rows and 3 columns\n",
        "# (5,3)\n",
        "new=np.array([[1,2,3],[12,13,21],[2,12,1],[1,2,3],[3,2,3]])\n",
        "new"
      ],
      "metadata": {
        "colab": {
          "base_uri": "https://localhost:8080/"
        },
        "id": "0yqcblEO3kfM",
        "outputId": "f1611a69-c3bf-4d05-c9b4-92440dd0998d"
      },
      "execution_count": null,
      "outputs": [
        {
          "output_type": "execute_result",
          "data": {
            "text/plain": [
              "array([[ 1,  2,  3],\n",
              "       [12, 13, 21],\n",
              "       [ 2, 12,  1],\n",
              "       [ 1,  2,  3],\n",
              "       [ 3,  2,  3]])"
            ]
          },
          "metadata": {},
          "execution_count": 2
        }
      ]
    },
    {
      "cell_type": "code",
      "source": [
        "arr1=np.array([1,2,3,46,1])\n",
        "arr2=np.array([2,2,3,1,2])"
      ],
      "metadata": {
        "id": "0suOiRQC4E3R"
      },
      "execution_count": null,
      "outputs": []
    },
    {
      "cell_type": "code",
      "source": [
        "arr2=np.array([[1,2,3,255,5],[2,3,3,4,5],[2,3,4,2,1]])"
      ],
      "metadata": {
        "id": "CA1bnDAHFtSR"
      },
      "execution_count": null,
      "outputs": []
    },
    {
      "cell_type": "code",
      "source": [],
      "metadata": {
        "id": "-OrcBuMyGZC6"
      },
      "execution_count": null,
      "outputs": []
    },
    {
      "cell_type": "code",
      "source": [
        "# 5row\n",
        "# 5colu\n",
        "# 2\n",
        "# (2,5,5)"
      ],
      "metadata": {
        "id": "g4HoDAUoAwWj"
      },
      "execution_count": null,
      "outputs": []
    },
    {
      "cell_type": "code",
      "source": [
        "arr2.reshape((1,3,5))"
      ],
      "metadata": {
        "id": "G-ggZyDcDEgT",
        "colab": {
          "base_uri": "https://localhost:8080/"
        },
        "outputId": "fc041690-cf4f-4581-82f2-1ab6a8da1cbc"
      },
      "execution_count": null,
      "outputs": [
        {
          "output_type": "execute_result",
          "data": {
            "text/plain": [
              "array([[[  1,   2,   3, 255,   5],\n",
              "        [  2,   3,   3,   4,   5],\n",
              "        [  2,   3,   4,   2,   1]]])"
            ]
          },
          "metadata": {},
          "execution_count": 6
        }
      ]
    },
    {
      "cell_type": "code",
      "source": [
        "# arange\n",
        "array1=np.arange(50)\n",
        "# array1.ndim\n",
        "# Vertical stack\n",
        "np.vstack([array1,array1,array1])\n",
        "a=[[1,2,3]]\n",
        "b=[[3,2,1]]\n",
        "c=[[1,2,3]]\n",
        "# np.hstack([array1,array1])"
      ],
      "metadata": {
        "id": "XXIsME_z_7gR"
      },
      "execution_count": null,
      "outputs": []
    },
    {
      "cell_type": "code",
      "source": [
        "# All zeros array\n",
        "np.zeros((5,3))\n",
        "# All ones array\n",
        "np.ones((5,10,5))\n",
        "# Any other number\n",
        "np.full((5,10),255)\n",
        "# Full like an another array\n",
        "np.full_like(arr2,10)\n",
        "# To create an array of random integer values in an particular range\n",
        "np.random.randint(1000,size=(10,5))\n",
        "# To create an array of random decimal values\n",
        "np.random.rand(2,10,10)\n",
        "# To create an identity matrix\n",
        "np.identity(10)"
      ],
      "metadata": {
        "colab": {
          "base_uri": "https://localhost:8080/"
        },
        "id": "PoxiBTJRCi5I",
        "outputId": "8b79b392-344c-4e28-a427-9b4af835b2d5"
      },
      "execution_count": null,
      "outputs": [
        {
          "output_type": "execute_result",
          "data": {
            "text/plain": [
              "array([[1., 0., 0., 0., 0., 0., 0., 0., 0., 0.],\n",
              "       [0., 1., 0., 0., 0., 0., 0., 0., 0., 0.],\n",
              "       [0., 0., 1., 0., 0., 0., 0., 0., 0., 0.],\n",
              "       [0., 0., 0., 1., 0., 0., 0., 0., 0., 0.],\n",
              "       [0., 0., 0., 0., 1., 0., 0., 0., 0., 0.],\n",
              "       [0., 0., 0., 0., 0., 1., 0., 0., 0., 0.],\n",
              "       [0., 0., 0., 0., 0., 0., 1., 0., 0., 0.],\n",
              "       [0., 0., 0., 0., 0., 0., 0., 1., 0., 0.],\n",
              "       [0., 0., 0., 0., 0., 0., 0., 0., 1., 0.],\n",
              "       [0., 0., 0., 0., 0., 0., 0., 0., 0., 1.]])"
            ]
          },
          "metadata": {},
          "execution_count": 8
        }
      ]
    },
    {
      "cell_type": "code",
      "source": [
        "arr2"
      ],
      "metadata": {
        "colab": {
          "base_uri": "https://localhost:8080/"
        },
        "id": "8vB3JuI2EhJ-",
        "outputId": "2c509b93-cb78-45a6-ecd3-d7bf51e335d5"
      },
      "execution_count": null,
      "outputs": [
        {
          "output_type": "execute_result",
          "data": {
            "text/plain": [
              "array([[  1,   2,   3, 255,   5],\n",
              "       [  2,   3,   3,   4,   5],\n",
              "       [  2,   3,   4,   2,   1]])"
            ]
          },
          "metadata": {},
          "execution_count": 9
        }
      ]
    },
    {
      "cell_type": "code",
      "source": [
        "abc=arr2.copy()\n",
        "abc[0,3]=255\n",
        "abc"
      ],
      "metadata": {
        "colab": {
          "base_uri": "https://localhost:8080/"
        },
        "id": "h2MNH0jeI_tY",
        "outputId": "8af6a2ad-9054-4eba-ad24-95a4af852457"
      },
      "execution_count": null,
      "outputs": [
        {
          "output_type": "execute_result",
          "data": {
            "text/plain": [
              "array([[  1,   2,   3, 255,   5],\n",
              "       [  2,   3,   3,   4,   5],\n",
              "       [  2,   3,   4,   2,   1]])"
            ]
          },
          "metadata": {},
          "execution_count": 10
        }
      ]
    },
    {
      "cell_type": "code",
      "source": [
        "# 1 1 1 1 1\n",
        "# 1 0 0 0 1\n",
        "# 1 0 9 0 1\n",
        "# 1 0 0 0 1\n",
        "# 1 1 1 1 1\n",
        "arr1=np.ones((5,5),dtype='int')\n",
        "zero=np.zeros((3,3))\n",
        "zero[1,1]=9\n",
        "arr1[1:4,1:4]=zero\n",
        "print(arr1)"
      ],
      "metadata": {
        "colab": {
          "base_uri": "https://localhost:8080/"
        },
        "id": "FBaS0ELGJ1s6",
        "outputId": "652b1ba9-3ce0-4c53-e1c7-c7a835da3ce5"
      },
      "execution_count": null,
      "outputs": [
        {
          "output_type": "stream",
          "name": "stdout",
          "text": [
            "[[1 1 1 1 1]\n",
            " [1 0 0 0 1]\n",
            " [1 0 9 0 1]\n",
            " [1 0 0 0 1]\n",
            " [1 1 1 1 1]]\n"
          ]
        }
      ]
    },
    {
      "cell_type": "code",
      "source": [
        "arr1[1:4,1:4]"
      ],
      "metadata": {
        "colab": {
          "base_uri": "https://localhost:8080/"
        },
        "id": "IpFTJ7LZOOWK",
        "outputId": "aadc2089-af53-4c94-e9a9-fbc356f42ce3"
      },
      "execution_count": null,
      "outputs": [
        {
          "output_type": "execute_result",
          "data": {
            "text/plain": [
              "array([[0, 0, 0],\n",
              "       [0, 9, 0],\n",
              "       [0, 0, 0]])"
            ]
          },
          "metadata": {},
          "execution_count": 12
        }
      ]
    },
    {
      "cell_type": "code",
      "source": [
        "a=np.array([[1,2],[3,4]])\n",
        "b=np.array([[5,6],[7,8]])\n",
        "# Add two matrices\n",
        "print('add',a+b)\n",
        "# Substract two matrices\n",
        "print('sub',a-b)\n",
        "# Multiply two arrays\n",
        "print('multiplication',a*b)\n",
        "# To find out the matrix multiplication\n",
        "print(np.dot(a,b))\n",
        "# The left side matrix column number should be equal to the row number of second matrix\n",
        "\n",
        "\n"
      ],
      "metadata": {
        "colab": {
          "base_uri": "https://localhost:8080/"
        },
        "id": "hyXRnd3POihb",
        "outputId": "50e9611b-13de-46c6-d2b2-5fd6d1b46b66"
      },
      "execution_count": null,
      "outputs": [
        {
          "output_type": "stream",
          "name": "stdout",
          "text": [
            "add [[ 6  8]\n",
            " [10 12]]\n",
            "sub [[-4 -4]\n",
            " [-4 -4]]\n",
            "multiplication [[ 5 12]\n",
            " [21 32]]\n",
            "[[19 22]\n",
            " [43 50]]\n"
          ]
        }
      ]
    },
    {
      "cell_type": "code",
      "source": [
        "2*3\n",
        "3*2\n",
        "result=2*2"
      ],
      "metadata": {
        "id": "0ymhdwI2Rift"
      },
      "execution_count": null,
      "outputs": []
    },
    {
      "cell_type": "code",
      "source": [
        "# To find out the matrix multiplication\n",
        "a=np.array([1,2,3])\n",
        "b=np.array([2,1,2])\n",
        "print(np.dot(a,b))\n",
        "np.matmul(a,b)"
      ],
      "metadata": {
        "colab": {
          "base_uri": "https://localhost:8080/"
        },
        "id": "l8Kssmp9Ra61",
        "outputId": "97bf30f9-63c5-4a08-c500-4f7225e9d934"
      },
      "execution_count": null,
      "outputs": [
        {
          "output_type": "stream",
          "name": "stdout",
          "text": [
            "10\n"
          ]
        },
        {
          "output_type": "execute_result",
          "data": {
            "text/plain": [
              "10"
            ]
          },
          "metadata": {},
          "execution_count": 15
        }
      ]
    },
    {
      "cell_type": "code",
      "source": [
        "# Create an array of shape (4x4) ranging from 0 to 15. And then convert the array into 2x8 shape.\n",
        "arr1=np.arange(0,16).reshape((4,4))\n",
        "arr2=arr1.reshape((2,8))\n",
        "arr2"
      ],
      "metadata": {
        "colab": {
          "base_uri": "https://localhost:8080/"
        },
        "id": "Zj5V9ljvISI5",
        "outputId": "97f52cb1-fc88-41f8-dede-71304c913027"
      },
      "execution_count": null,
      "outputs": [
        {
          "output_type": "execute_result",
          "data": {
            "text/plain": [
              "array([[ 0,  1,  2,  3,  4,  5,  6,  7],\n",
              "       [ 8,  9, 10, 11, 12, 13, 14, 15]])"
            ]
          },
          "metadata": {},
          "execution_count": 16
        }
      ]
    },
    {
      "cell_type": "code",
      "source": [
        "arr1=np.identity(4)\n",
        "arr2=arr1.reshape((4,2,2))\n",
        "# To find out the determinant of an matrix\n",
        "np.linalg.det(arr2)\n",
        "\n",
        "\n"
      ],
      "metadata": {
        "colab": {
          "base_uri": "https://localhost:8080/"
        },
        "id": "-RS6U2xiLZIv",
        "outputId": "653e55c4-c358-461c-a817-617d612aaf3d"
      },
      "execution_count": null,
      "outputs": [
        {
          "output_type": "execute_result",
          "data": {
            "text/plain": [
              "array([0., 0., 0., 0.])"
            ]
          },
          "metadata": {},
          "execution_count": 17
        }
      ]
    },
    {
      "cell_type": "code",
      "source": [
        "\n",
        "# Create an array of shape (4,4) with random integers from 0 and 100. And find out the determinant of that matrix.\n",
        "arr1=np.random.randint(0,101,size=(4,4))\n",
        "determinant=np.linalg.det(arr1)\n",
        "determinant\n",
        "# Inverse of an matrix.\n",
        "inverse=np.linalg.inv(arr1)\n",
        "arr1\n",
        "# inverse\n",
        "arr3=np.matmul(arr1,inverse)\n",
        "arr3"
      ],
      "metadata": {
        "colab": {
          "base_uri": "https://localhost:8080/"
        },
        "id": "pimMizumN8yC",
        "outputId": "9d463d36-0568-478d-dc5f-11a13708f0a4"
      },
      "execution_count": null,
      "outputs": [
        {
          "output_type": "execute_result",
          "data": {
            "text/plain": [
              "array([[ 1.00000000e+00, -3.19189120e-16, -4.30211422e-16,\n",
              "         2.60208521e-17],\n",
              "       [-3.46944695e-17,  1.00000000e+00, -2.08166817e-16,\n",
              "         1.92554306e-16],\n",
              "       [ 1.59594560e-16, -1.52655666e-16,  1.00000000e+00,\n",
              "        -7.80625564e-17],\n",
              "       [ 2.70616862e-16, -9.71445147e-17, -2.63677968e-16,\n",
              "         1.00000000e+00]])"
            ]
          },
          "metadata": {},
          "execution_count": 18
        }
      ]
    },
    {
      "cell_type": "code",
      "source": [
        "# (x1,y1)\n",
        "# (x2,y2)\n",
        "x1=np.array([4,8])\n",
        "x2=np.array([7,16])\n",
        "np.linalg.norm(x2-x1)\n"
      ],
      "metadata": {
        "colab": {
          "base_uri": "https://localhost:8080/"
        },
        "id": "-UtRhavBN4lB",
        "outputId": "14935948-7087-430a-96d2-c5666b957840"
      },
      "execution_count": null,
      "outputs": [
        {
          "output_type": "execute_result",
          "data": {
            "text/plain": [
              "8.54400374531753"
            ]
          },
          "metadata": {},
          "execution_count": 19
        }
      ]
    },
    {
      "cell_type": "code",
      "source": [
        "# Statistical analysis\n",
        "arr1=np.array([[4,1,2],[7,4,9],[23,12,1]])\n",
        "\n",
        "print('Minimum value from the entire array',arr1)\n",
        "# To find out the minimum value from the arr1\n",
        "print('Minimum value along with rows',np.min(arr1,axis=1))\n",
        "\n",
        "# To get minimum along with different axis\n",
        "# axis=0 means columns\n",
        "# axis=1 means rows\n",
        "# Maximum value\n",
        "print('Max value from entire array',np.max(arr1))\n",
        "print('row-wise max value',np.max(arr1,axis=1))\n",
        "\n",
        "\n",
        "\n"
      ],
      "metadata": {
        "colab": {
          "base_uri": "https://localhost:8080/"
        },
        "id": "mAQ99jkUSXPp",
        "outputId": "82541f86-e89e-4bc3-8072-3b8900f6c47a"
      },
      "execution_count": null,
      "outputs": [
        {
          "output_type": "stream",
          "name": "stdout",
          "text": [
            "Minimum value from the entire array [[ 4  1  2]\n",
            " [ 7  4  9]\n",
            " [23 12  1]]\n",
            "Minimum value along with rows [1 4 1]\n",
            "Max value from entire array 23\n",
            "row-wise max value [ 4  9 23]\n"
          ]
        }
      ]
    },
    {
      "cell_type": "code",
      "source": [
        "print(arr1)"
      ],
      "metadata": {
        "colab": {
          "base_uri": "https://localhost:8080/"
        },
        "id": "saxATCc5Vc5R",
        "outputId": "f0f230ae-7e36-48f6-f254-7cba7971775c"
      },
      "execution_count": null,
      "outputs": [
        {
          "output_type": "stream",
          "name": "stdout",
          "text": [
            "[[ 4  1  2]\n",
            " [ 7  4  9]\n",
            " [23 12  1]]\n"
          ]
        }
      ]
    },
    {
      "cell_type": "code",
      "source": [
        "# argmax and argmin\n",
        "\n",
        "np.argmax(arr1,axis=1)\n",
        "np.argmin(arr1,axis=0)\n",
        "# print(np.where(arr1==23))\n",
        "# to find sum\n",
        "np.sum(arr1)\n",
        "# To find out mean\n",
        "np.mean(arr1)\n",
        "# Median\n",
        "np.median(arr1)\n",
        "# Standard deviation\n",
        "np.std(arr1)\n",
        "# Variance\n",
        "variance=np.var(arr1)\n",
        "# square root\n",
        "np.sqrt(variance)\n",
        "np.std(arr1)"
      ],
      "metadata": {
        "colab": {
          "base_uri": "https://localhost:8080/"
        },
        "id": "wMzFVaDAVZUj",
        "outputId": "2c7f2a81-6b44-4a0e-a7c5-5f33cb0ae107"
      },
      "execution_count": null,
      "outputs": [
        {
          "output_type": "execute_result",
          "data": {
            "text/plain": [
              "6.666666666666667"
            ]
          },
          "metadata": {},
          "execution_count": 22
        }
      ]
    },
    {
      "cell_type": "code",
      "source": [
        "print(arr1)"
      ],
      "metadata": {
        "colab": {
          "base_uri": "https://localhost:8080/"
        },
        "id": "UHethMnVbM-G",
        "outputId": "767000cd-2477-462e-fe50-e39de406e3b8"
      },
      "execution_count": null,
      "outputs": [
        {
          "output_type": "stream",
          "name": "stdout",
          "text": [
            "[[ 4  1  2]\n",
            " [ 7  4  9]\n",
            " [23 12  1]]\n"
          ]
        }
      ]
    },
    {
      "cell_type": "code",
      "source": [
        "# Advanced indexing and Boolean indexing\n",
        "arr1[(arr1>10)|(arr1<20)]\n",
        "\n",
        "# Advanced indexing\n",
        "\n",
        "arr1[:,[2,0]]=1\n",
        "\n"
      ],
      "metadata": {
        "id": "8L_InhZyYFvF"
      },
      "execution_count": null,
      "outputs": []
    },
    {
      "cell_type": "code",
      "source": [
        "arr1"
      ],
      "metadata": {
        "colab": {
          "base_uri": "https://localhost:8080/"
        },
        "id": "qB7fzRGTwVkT",
        "outputId": "7c3aac7c-7372-42e0-9640-74475c38e0fa"
      },
      "execution_count": null,
      "outputs": [
        {
          "output_type": "execute_result",
          "data": {
            "text/plain": [
              "array([[ 1,  1,  1],\n",
              "       [ 1,  4,  1],\n",
              "       [ 1, 12,  1]])"
            ]
          },
          "metadata": {},
          "execution_count": 25
        }
      ]
    },
    {
      "cell_type": "code",
      "source": [
        "# Create an array of shape (10,6) array with random integers from 1 to 50.\n",
        "arr1=np.random.randint(1,51,size=(10,6))\n",
        "arr1"
      ],
      "metadata": {
        "colab": {
          "base_uri": "https://localhost:8080/"
        },
        "id": "LzO4DSNSwath",
        "outputId": "e8232929-cb21-443f-8cd6-df4f3ed21842"
      },
      "execution_count": null,
      "outputs": [
        {
          "output_type": "execute_result",
          "data": {
            "text/plain": [
              "array([[32, 25, 14, 48, 41,  5],\n",
              "       [43,  5, 49,  5, 24, 29],\n",
              "       [46,  2, 40, 24, 32, 38],\n",
              "       [ 6, 30, 16, 30, 12,  7],\n",
              "       [18, 12, 29,  7, 49, 50],\n",
              "       [37, 17, 12, 43, 28, 45],\n",
              "       [15, 22, 46,  6, 28, 26],\n",
              "       [49, 32, 15, 34, 47, 19],\n",
              "       [45, 35, 29,  8, 46, 19],\n",
              "       [28, 41, 50, 47, 34,  3]])"
            ]
          },
          "metadata": {},
          "execution_count": 26
        }
      ]
    },
    {
      "cell_type": "code",
      "source": [
        "arr1.size"
      ],
      "metadata": {
        "colab": {
          "base_uri": "https://localhost:8080/"
        },
        "id": "eJETAUOtxYSe",
        "outputId": "467ffdac-eabe-4caf-e308-cd46f41e86c6"
      },
      "execution_count": null,
      "outputs": [
        {
          "output_type": "execute_result",
          "data": {
            "text/plain": [
              "60"
            ]
          },
          "metadata": {},
          "execution_count": 27
        }
      ]
    },
    {
      "cell_type": "code",
      "source": [
        "# Find the column-wise\n",
        "    # MEAN\n",
        "    # MEDIAN\n",
        "    # STD\n",
        "    # SUM\n",
        "np.mean(arr1,axis=0)\n",
        "np.median(arr1,axis=0)\n",
        "np.std(arr1,axis=0)\n",
        "np.sum(arr1,axis=0)\n"
      ],
      "metadata": {
        "colab": {
          "base_uri": "https://localhost:8080/"
        },
        "id": "x-OSndoxw82P",
        "outputId": "bd2aa7cc-6d99-49b3-8ca3-a444a748d701"
      },
      "execution_count": null,
      "outputs": [
        {
          "output_type": "execute_result",
          "data": {
            "text/plain": [
              "array([319, 221, 300, 252, 341, 241])"
            ]
          },
          "metadata": {},
          "execution_count": 28
        }
      ]
    },
    {
      "cell_type": "code",
      "source": [
        "np.sum(arr1>25)"
      ],
      "metadata": {
        "colab": {
          "base_uri": "https://localhost:8080/"
        },
        "id": "ByHzAqexyVA-",
        "outputId": "7d3ab69a-d97e-4d8b-8520-4766e7c02565"
      },
      "execution_count": null,
      "outputs": [
        {
          "output_type": "execute_result",
          "data": {
            "text/plain": [
              "35"
            ]
          },
          "metadata": {},
          "execution_count": 29
        }
      ]
    },
    {
      "cell_type": "code",
      "source": [
        "arr2=np.array(arr1,dtype='float')\n",
        "arr2[arr2%7==0]=np.nan\n",
        "arr2"
      ],
      "metadata": {
        "colab": {
          "base_uri": "https://localhost:8080/"
        },
        "id": "r1mqBxVl2saV",
        "outputId": "1a5d111a-3ba0-4bf6-8189-060c32b20d8d"
      },
      "execution_count": null,
      "outputs": [
        {
          "output_type": "execute_result",
          "data": {
            "text/plain": [
              "array([[32., 25., nan, 48., 41.,  5.],\n",
              "       [43.,  5., nan,  5., 24., 29.],\n",
              "       [46.,  2., 40., 24., 32., 38.],\n",
              "       [ 6., 30., 16., 30., 12., nan],\n",
              "       [18., 12., 29., nan, nan, 50.],\n",
              "       [37., 17., 12., 43., nan, 45.],\n",
              "       [15., 22., 46.,  6., nan, 26.],\n",
              "       [nan, 32., 15., 34., 47., 19.],\n",
              "       [45., nan, 29.,  8., 46., 19.],\n",
              "       [nan, 41., 50., 47., 34.,  3.]])"
            ]
          },
          "metadata": {},
          "execution_count": 30
        }
      ]
    },
    {
      "cell_type": "code",
      "source": [],
      "metadata": {
        "id": "9g98Qw5C4mJO"
      },
      "execution_count": null,
      "outputs": []
    },
    {
      "cell_type": "code",
      "source": [
        "\n",
        "# Find out the number of element which are greater than 25 and multiple of 7.\n",
        "\n",
        "# change all numbers which is a multiple of 5 and 7 into np.nan\n",
        "\n",
        "# Find the determinant of the matrix from the given array with first 6 rows and\n",
        "# the entire column.\n",
        "arr2[:7]\n",
        "\n",
        "\n",
        "# Get the 1st,4th,5th and 7th row of 2,3 columns from the given array.\n",
        "\n",
        "# Reshape the array into (2,3,10)\n",
        "\n",
        "# Find out the missing\n",
        "arr2[:7][np.isnan(arr2[:7])]=0\n",
        "arr2"
      ],
      "metadata": {
        "colab": {
          "base_uri": "https://localhost:8080/"
        },
        "id": "0JL707Tw08ac",
        "outputId": "63f14e1f-a916-4c6c-85e5-825bd618ff59"
      },
      "execution_count": null,
      "outputs": [
        {
          "output_type": "execute_result",
          "data": {
            "text/plain": [
              "array([[32., 25.,  0., 48., 41.,  5.],\n",
              "       [43.,  5.,  0.,  5., 24., 29.],\n",
              "       [46.,  2., 40., 24., 32., 38.],\n",
              "       [ 6., 30., 16., 30., 12.,  0.],\n",
              "       [18., 12., 29.,  0.,  0., 50.],\n",
              "       [37., 17., 12., 43.,  0., 45.],\n",
              "       [15., 22., 46.,  6.,  0., 26.],\n",
              "       [nan, 32., 15., 34., 47., 19.],\n",
              "       [45., nan, 29.,  8., 46., 19.],\n",
              "       [nan, 41., 50., 47., 34.,  3.]])"
            ]
          },
          "metadata": {},
          "execution_count": 31
        }
      ]
    },
    {
      "cell_type": "code",
      "source": [
        "# arr2[[1,2,3,4,5,6],[0,1,4,5,2,3]]#43,2,12\n",
        "arr2[[1,2,3,4,5,6],[0,1,4,5,2,3]]=100\n"
      ],
      "metadata": {
        "colab": {
          "base_uri": "https://localhost:8080/"
        },
        "id": "gFpkxdU5p67b",
        "outputId": "3011f70d-24b5-442e-85cf-fc9eceee54af"
      },
      "execution_count": null,
      "outputs": [
        {
          "output_type": "execute_result",
          "data": {
            "text/plain": [
              "array([[ 32.,  25.,   0.,  48.,  41.,   5.],\n",
              "       [100.,   5.,   0.,   5.,  24.,  29.],\n",
              "       [ 46., 100.,  40.,  24.,  32.,  38.],\n",
              "       [  6.,  30.,  16.,  30., 100.,   0.],\n",
              "       [ 18.,  12.,  29.,   0.,   0., 100.],\n",
              "       [ 37.,  17., 100.,  43.,   0.,  45.],\n",
              "       [ 15.,  22.,  46., 100.,   0.,  26.],\n",
              "       [ nan,  32.,  15.,  34.,  47.,  19.],\n",
              "       [ 45.,  nan,  29.,   8.,  46.,  19.],\n",
              "       [ nan,  41.,  50.,  47.,  34.,   3.]])"
            ]
          },
          "metadata": {},
          "execution_count": 41
        }
      ]
    },
    {
      "cell_type": "code",
      "source": [
        "arr3=np.arange(36).reshape((6,6))\n",
        "arr3[[1,2,4],4:]+=20\n",
        "arr3"
      ],
      "metadata": {
        "colab": {
          "base_uri": "https://localhost:8080/"
        },
        "id": "UycdOVzAr5u6",
        "outputId": "5dfc0f91-657e-45cd-e143-65f8bed71ae3"
      },
      "execution_count": null,
      "outputs": [
        {
          "output_type": "execute_result",
          "data": {
            "text/plain": [
              "array([[ 0,  1,  2,  3,  4,  5],\n",
              "       [ 6,  7,  8,  9, 30, 31],\n",
              "       [12, 13, 14, 15, 36, 37],\n",
              "       [18, 19, 20, 21, 22, 23],\n",
              "       [24, 25, 26, 27, 48, 49],\n",
              "       [30, 31, 32, 33, 34, 35]])"
            ]
          },
          "metadata": {},
          "execution_count": 45
        }
      ]
    },
    {
      "cell_type": "code",
      "source": [
        "arr3[(arr3%7==0)&(arr3%2==0)]\n"
      ],
      "metadata": {
        "colab": {
          "base_uri": "https://localhost:8080/"
        },
        "id": "xmDcAFXdvMLZ",
        "outputId": "f8f78bdc-008b-4700-9aa7-eab56f7078f7"
      },
      "execution_count": null,
      "outputs": [
        {
          "output_type": "execute_result",
          "data": {
            "text/plain": [
              "array([ 0, 14])"
            ]
          },
          "metadata": {},
          "execution_count": 48
        }
      ]
    },
    {
      "cell_type": "code",
      "source": [
        "arr4=np.genfromtxt('https://archive.ics.uci.edu/ml/machine-learning-databases/iris/iris.data',delimiter=',',dtype='str')\n",
        "arr4"
      ],
      "metadata": {
        "colab": {
          "base_uri": "https://localhost:8080/"
        },
        "id": "fCxaN6lEx83-",
        "outputId": "a0d11a75-7457-4ccd-bb7e-3512be44430e"
      },
      "execution_count": null,
      "outputs": [
        {
          "output_type": "execute_result",
          "data": {
            "text/plain": [
              "array([['5.1', '3.5', '1.4', '0.2', 'Iris-setosa'],\n",
              "       ['4.9', '3.0', '1.4', '0.2', 'Iris-setosa'],\n",
              "       ['4.7', '3.2', '1.3', '0.2', 'Iris-setosa'],\n",
              "       ['4.6', '3.1', '1.5', '0.2', 'Iris-setosa'],\n",
              "       ['5.0', '3.6', '1.4', '0.2', 'Iris-setosa'],\n",
              "       ['5.4', '3.9', '1.7', '0.4', 'Iris-setosa'],\n",
              "       ['4.6', '3.4', '1.4', '0.3', 'Iris-setosa'],\n",
              "       ['5.0', '3.4', '1.5', '0.2', 'Iris-setosa'],\n",
              "       ['4.4', '2.9', '1.4', '0.2', 'Iris-setosa'],\n",
              "       ['4.9', '3.1', '1.5', '0.1', 'Iris-setosa'],\n",
              "       ['5.4', '3.7', '1.5', '0.2', 'Iris-setosa'],\n",
              "       ['4.8', '3.4', '1.6', '0.2', 'Iris-setosa'],\n",
              "       ['4.8', '3.0', '1.4', '0.1', 'Iris-setosa'],\n",
              "       ['4.3', '3.0', '1.1', '0.1', 'Iris-setosa'],\n",
              "       ['5.8', '4.0', '1.2', '0.2', 'Iris-setosa'],\n",
              "       ['5.7', '4.4', '1.5', '0.4', 'Iris-setosa'],\n",
              "       ['5.4', '3.9', '1.3', '0.4', 'Iris-setosa'],\n",
              "       ['5.1', '3.5', '1.4', '0.3', 'Iris-setosa'],\n",
              "       ['5.7', '3.8', '1.7', '0.3', 'Iris-setosa'],\n",
              "       ['5.1', '3.8', '1.5', '0.3', 'Iris-setosa'],\n",
              "       ['5.4', '3.4', '1.7', '0.2', 'Iris-setosa'],\n",
              "       ['5.1', '3.7', '1.5', '0.4', 'Iris-setosa'],\n",
              "       ['4.6', '3.6', '1.0', '0.2', 'Iris-setosa'],\n",
              "       ['5.1', '3.3', '1.7', '0.5', 'Iris-setosa'],\n",
              "       ['4.8', '3.4', '1.9', '0.2', 'Iris-setosa'],\n",
              "       ['5.0', '3.0', '1.6', '0.2', 'Iris-setosa'],\n",
              "       ['5.0', '3.4', '1.6', '0.4', 'Iris-setosa'],\n",
              "       ['5.2', '3.5', '1.5', '0.2', 'Iris-setosa'],\n",
              "       ['5.2', '3.4', '1.4', '0.2', 'Iris-setosa'],\n",
              "       ['4.7', '3.2', '1.6', '0.2', 'Iris-setosa'],\n",
              "       ['4.8', '3.1', '1.6', '0.2', 'Iris-setosa'],\n",
              "       ['5.4', '3.4', '1.5', '0.4', 'Iris-setosa'],\n",
              "       ['5.2', '4.1', '1.5', '0.1', 'Iris-setosa'],\n",
              "       ['5.5', '4.2', '1.4', '0.2', 'Iris-setosa'],\n",
              "       ['4.9', '3.1', '1.5', '0.1', 'Iris-setosa'],\n",
              "       ['5.0', '3.2', '1.2', '0.2', 'Iris-setosa'],\n",
              "       ['5.5', '3.5', '1.3', '0.2', 'Iris-setosa'],\n",
              "       ['4.9', '3.1', '1.5', '0.1', 'Iris-setosa'],\n",
              "       ['4.4', '3.0', '1.3', '0.2', 'Iris-setosa'],\n",
              "       ['5.1', '3.4', '1.5', '0.2', 'Iris-setosa'],\n",
              "       ['5.0', '3.5', '1.3', '0.3', 'Iris-setosa'],\n",
              "       ['4.5', '2.3', '1.3', '0.3', 'Iris-setosa'],\n",
              "       ['4.4', '3.2', '1.3', '0.2', 'Iris-setosa'],\n",
              "       ['5.0', '3.5', '1.6', '0.6', 'Iris-setosa'],\n",
              "       ['5.1', '3.8', '1.9', '0.4', 'Iris-setosa'],\n",
              "       ['4.8', '3.0', '1.4', '0.3', 'Iris-setosa'],\n",
              "       ['5.1', '3.8', '1.6', '0.2', 'Iris-setosa'],\n",
              "       ['4.6', '3.2', '1.4', '0.2', 'Iris-setosa'],\n",
              "       ['5.3', '3.7', '1.5', '0.2', 'Iris-setosa'],\n",
              "       ['5.0', '3.3', '1.4', '0.2', 'Iris-setosa'],\n",
              "       ['7.0', '3.2', '4.7', '1.4', 'Iris-versicolor'],\n",
              "       ['6.4', '3.2', '4.5', '1.5', 'Iris-versicolor'],\n",
              "       ['6.9', '3.1', '4.9', '1.5', 'Iris-versicolor'],\n",
              "       ['5.5', '2.3', '4.0', '1.3', 'Iris-versicolor'],\n",
              "       ['6.5', '2.8', '4.6', '1.5', 'Iris-versicolor'],\n",
              "       ['5.7', '2.8', '4.5', '1.3', 'Iris-versicolor'],\n",
              "       ['6.3', '3.3', '4.7', '1.6', 'Iris-versicolor'],\n",
              "       ['4.9', '2.4', '3.3', '1.0', 'Iris-versicolor'],\n",
              "       ['6.6', '2.9', '4.6', '1.3', 'Iris-versicolor'],\n",
              "       ['5.2', '2.7', '3.9', '1.4', 'Iris-versicolor'],\n",
              "       ['5.0', '2.0', '3.5', '1.0', 'Iris-versicolor'],\n",
              "       ['5.9', '3.0', '4.2', '1.5', 'Iris-versicolor'],\n",
              "       ['6.0', '2.2', '4.0', '1.0', 'Iris-versicolor'],\n",
              "       ['6.1', '2.9', '4.7', '1.4', 'Iris-versicolor'],\n",
              "       ['5.6', '2.9', '3.6', '1.3', 'Iris-versicolor'],\n",
              "       ['6.7', '3.1', '4.4', '1.4', 'Iris-versicolor'],\n",
              "       ['5.6', '3.0', '4.5', '1.5', 'Iris-versicolor'],\n",
              "       ['5.8', '2.7', '4.1', '1.0', 'Iris-versicolor'],\n",
              "       ['6.2', '2.2', '4.5', '1.5', 'Iris-versicolor'],\n",
              "       ['5.6', '2.5', '3.9', '1.1', 'Iris-versicolor'],\n",
              "       ['5.9', '3.2', '4.8', '1.8', 'Iris-versicolor'],\n",
              "       ['6.1', '2.8', '4.0', '1.3', 'Iris-versicolor'],\n",
              "       ['6.3', '2.5', '4.9', '1.5', 'Iris-versicolor'],\n",
              "       ['6.1', '2.8', '4.7', '1.2', 'Iris-versicolor'],\n",
              "       ['6.4', '2.9', '4.3', '1.3', 'Iris-versicolor'],\n",
              "       ['6.6', '3.0', '4.4', '1.4', 'Iris-versicolor'],\n",
              "       ['6.8', '2.8', '4.8', '1.4', 'Iris-versicolor'],\n",
              "       ['6.7', '3.0', '5.0', '1.7', 'Iris-versicolor'],\n",
              "       ['6.0', '2.9', '4.5', '1.5', 'Iris-versicolor'],\n",
              "       ['5.7', '2.6', '3.5', '1.0', 'Iris-versicolor'],\n",
              "       ['5.5', '2.4', '3.8', '1.1', 'Iris-versicolor'],\n",
              "       ['5.5', '2.4', '3.7', '1.0', 'Iris-versicolor'],\n",
              "       ['5.8', '2.7', '3.9', '1.2', 'Iris-versicolor'],\n",
              "       ['6.0', '2.7', '5.1', '1.6', 'Iris-versicolor'],\n",
              "       ['5.4', '3.0', '4.5', '1.5', 'Iris-versicolor'],\n",
              "       ['6.0', '3.4', '4.5', '1.6', 'Iris-versicolor'],\n",
              "       ['6.7', '3.1', '4.7', '1.5', 'Iris-versicolor'],\n",
              "       ['6.3', '2.3', '4.4', '1.3', 'Iris-versicolor'],\n",
              "       ['5.6', '3.0', '4.1', '1.3', 'Iris-versicolor'],\n",
              "       ['5.5', '2.5', '4.0', '1.3', 'Iris-versicolor'],\n",
              "       ['5.5', '2.6', '4.4', '1.2', 'Iris-versicolor'],\n",
              "       ['6.1', '3.0', '4.6', '1.4', 'Iris-versicolor'],\n",
              "       ['5.8', '2.6', '4.0', '1.2', 'Iris-versicolor'],\n",
              "       ['5.0', '2.3', '3.3', '1.0', 'Iris-versicolor'],\n",
              "       ['5.6', '2.7', '4.2', '1.3', 'Iris-versicolor'],\n",
              "       ['5.7', '3.0', '4.2', '1.2', 'Iris-versicolor'],\n",
              "       ['5.7', '2.9', '4.2', '1.3', 'Iris-versicolor'],\n",
              "       ['6.2', '2.9', '4.3', '1.3', 'Iris-versicolor'],\n",
              "       ['5.1', '2.5', '3.0', '1.1', 'Iris-versicolor'],\n",
              "       ['5.7', '2.8', '4.1', '1.3', 'Iris-versicolor'],\n",
              "       ['6.3', '3.3', '6.0', '2.5', 'Iris-virginica'],\n",
              "       ['5.8', '2.7', '5.1', '1.9', 'Iris-virginica'],\n",
              "       ['7.1', '3.0', '5.9', '2.1', 'Iris-virginica'],\n",
              "       ['6.3', '2.9', '5.6', '1.8', 'Iris-virginica'],\n",
              "       ['6.5', '3.0', '5.8', '2.2', 'Iris-virginica'],\n",
              "       ['7.6', '3.0', '6.6', '2.1', 'Iris-virginica'],\n",
              "       ['4.9', '2.5', '4.5', '1.7', 'Iris-virginica'],\n",
              "       ['7.3', '2.9', '6.3', '1.8', 'Iris-virginica'],\n",
              "       ['6.7', '2.5', '5.8', '1.8', 'Iris-virginica'],\n",
              "       ['7.2', '3.6', '6.1', '2.5', 'Iris-virginica'],\n",
              "       ['6.5', '3.2', '5.1', '2.0', 'Iris-virginica'],\n",
              "       ['6.4', '2.7', '5.3', '1.9', 'Iris-virginica'],\n",
              "       ['6.8', '3.0', '5.5', '2.1', 'Iris-virginica'],\n",
              "       ['5.7', '2.5', '5.0', '2.0', 'Iris-virginica'],\n",
              "       ['5.8', '2.8', '5.1', '2.4', 'Iris-virginica'],\n",
              "       ['6.4', '3.2', '5.3', '2.3', 'Iris-virginica'],\n",
              "       ['6.5', '3.0', '5.5', '1.8', 'Iris-virginica'],\n",
              "       ['7.7', '3.8', '6.7', '2.2', 'Iris-virginica'],\n",
              "       ['7.7', '2.6', '6.9', '2.3', 'Iris-virginica'],\n",
              "       ['6.0', '2.2', '5.0', '1.5', 'Iris-virginica'],\n",
              "       ['6.9', '3.2', '5.7', '2.3', 'Iris-virginica'],\n",
              "       ['5.6', '2.8', '4.9', '2.0', 'Iris-virginica'],\n",
              "       ['7.7', '2.8', '6.7', '2.0', 'Iris-virginica'],\n",
              "       ['6.3', '2.7', '4.9', '1.8', 'Iris-virginica'],\n",
              "       ['6.7', '3.3', '5.7', '2.1', 'Iris-virginica'],\n",
              "       ['7.2', '3.2', '6.0', '1.8', 'Iris-virginica'],\n",
              "       ['6.2', '2.8', '4.8', '1.8', 'Iris-virginica'],\n",
              "       ['6.1', '3.0', '4.9', '1.8', 'Iris-virginica'],\n",
              "       ['6.4', '2.8', '5.6', '2.1', 'Iris-virginica'],\n",
              "       ['7.2', '3.0', '5.8', '1.6', 'Iris-virginica'],\n",
              "       ['7.4', '2.8', '6.1', '1.9', 'Iris-virginica'],\n",
              "       ['7.9', '3.8', '6.4', '2.0', 'Iris-virginica'],\n",
              "       ['6.4', '2.8', '5.6', '2.2', 'Iris-virginica'],\n",
              "       ['6.3', '2.8', '5.1', '1.5', 'Iris-virginica'],\n",
              "       ['6.1', '2.6', '5.6', '1.4', 'Iris-virginica'],\n",
              "       ['7.7', '3.0', '6.1', '2.3', 'Iris-virginica'],\n",
              "       ['6.3', '3.4', '5.6', '2.4', 'Iris-virginica'],\n",
              "       ['6.4', '3.1', '5.5', '1.8', 'Iris-virginica'],\n",
              "       ['6.0', '3.0', '4.8', '1.8', 'Iris-virginica'],\n",
              "       ['6.9', '3.1', '5.4', '2.1', 'Iris-virginica'],\n",
              "       ['6.7', '3.1', '5.6', '2.4', 'Iris-virginica'],\n",
              "       ['6.9', '3.1', '5.1', '2.3', 'Iris-virginica'],\n",
              "       ['5.8', '2.7', '5.1', '1.9', 'Iris-virginica'],\n",
              "       ['6.8', '3.2', '5.9', '2.3', 'Iris-virginica'],\n",
              "       ['6.7', '3.3', '5.7', '2.5', 'Iris-virginica'],\n",
              "       ['6.7', '3.0', '5.2', '2.3', 'Iris-virginica'],\n",
              "       ['6.3', '2.5', '5.0', '1.9', 'Iris-virginica'],\n",
              "       ['6.5', '3.0', '5.2', '2.0', 'Iris-virginica'],\n",
              "       ['6.2', '3.4', '5.4', '2.3', 'Iris-virginica'],\n",
              "       ['5.9', '3.0', '5.1', '1.8', 'Iris-virginica']], dtype='<U15')"
            ]
          },
          "metadata": {},
          "execution_count": 58
        }
      ]
    },
    {
      "cell_type": "code",
      "source": [
        "arr4[:,0][arr4[:,-1]=='Iris-versicolor']"
      ],
      "metadata": {
        "colab": {
          "base_uri": "https://localhost:8080/"
        },
        "id": "vJNRjAV900Ez",
        "outputId": "40005028-328e-4017-8a54-1ecc0206d276"
      },
      "execution_count": null,
      "outputs": [
        {
          "output_type": "execute_result",
          "data": {
            "text/plain": [
              "array(['7.0', '6.4', '6.9', '5.5', '6.5', '5.7', '6.3', '4.9', '6.6',\n",
              "       '5.2', '5.0', '5.9', '6.0', '6.1', '5.6', '6.7', '5.6', '5.8',\n",
              "       '6.2', '5.6', '5.9', '6.1', '6.3', '6.1', '6.4', '6.6', '6.8',\n",
              "       '6.7', '6.0', '5.7', '5.5', '5.5', '5.8', '6.0', '5.4', '6.0',\n",
              "       '6.7', '6.3', '5.6', '5.5', '5.5', '6.1', '5.8', '5.0', '5.6',\n",
              "       '5.7', '5.7', '6.2', '5.1', '5.7'], dtype='<U15')"
            ]
          },
          "metadata": {},
          "execution_count": 76
        }
      ]
    },
    {
      "cell_type": "code",
      "source": [
        "# the petal length (3rd) column of iris_2d to form a text array, such that if petal length is:\n",
        "# Less than 3 --> 'small'\n",
        "# 3-5 --> 'medium'\n",
        "# '>=5 --> 'large’\n",
        "new=np.array(arr4[:,2],dtype='float')\n",
        "new1=arr4[:,2]\n",
        "\n",
        "new1[new<3]='Small'\n",
        "new1[(new>=3)&(new<5)]='Medium'\n"
      ],
      "metadata": {
        "colab": {
          "base_uri": "https://localhost:8080/"
        },
        "id": "6fX8O-Eb4Ghz",
        "outputId": "6af290a1-0697-4a46-82b4-0c552bd6694e"
      },
      "execution_count": null,
      "outputs": [
        {
          "output_type": "execute_result",
          "data": {
            "text/plain": [
              "array(['Small', 'Small', 'Small', 'Small', 'Small', 'Small', 'Small',\n",
              "       'Small', 'Small', 'Small', 'Small', 'Small', 'Small', 'Small',\n",
              "       'Small', 'Small', 'Small', 'Small', 'Small', 'Small', 'Small',\n",
              "       'Small', 'Small', 'Small', 'Small', 'Small', 'Small', 'Small',\n",
              "       'Small', 'Small', 'Small', 'Small', 'Small', 'Small', 'Small',\n",
              "       'Small', 'Small', 'Small', 'Small', 'Small', 'Small', 'Small',\n",
              "       'Small', 'Small', 'Small', 'Small', 'Small', 'Small', 'Small',\n",
              "       'Small', 'Medium', 'Medium', 'Medium', 'Medium', 'Medium',\n",
              "       'Medium', 'Medium', 'Medium', 'Medium', 'Medium', 'Medium',\n",
              "       'Medium', 'Medium', 'Medium', 'Medium', 'Medium', 'Medium',\n",
              "       'Medium', 'Medium', 'Medium', 'Medium', 'Medium', 'Medium',\n",
              "       'Medium', 'Medium', 'Medium', 'Medium', '5.0', 'Medium', 'Medium',\n",
              "       'Medium', 'Medium', 'Medium', '5.1', 'Medium', 'Medium', 'Medium',\n",
              "       'Medium', 'Medium', 'Medium', 'Medium', 'Medium', 'Medium',\n",
              "       'Medium', 'Medium', 'Medium', 'Medium', 'Medium', 'Medium',\n",
              "       'Medium', '6.0', '5.1', '5.9', '5.6', '5.8', '6.6', 'Medium',\n",
              "       '6.3', '5.8', '6.1', '5.1', '5.3', '5.5', '5.0', '5.1', '5.3',\n",
              "       '5.5', '6.7', '6.9', '5.0', '5.7', 'Medium', '6.7', 'Medium',\n",
              "       '5.7', '6.0', 'Medium', 'Medium', '5.6', '5.8', '6.1', '6.4',\n",
              "       '5.6', '5.1', '5.6', '6.1', '5.6', '5.5', 'Medium', '5.4', '5.6',\n",
              "       '5.1', '5.1', '5.9', '5.7', '5.2', '5.0', '5.2', '5.4', '5.1'],\n",
              "      dtype='<U15')"
            ]
          },
          "metadata": {},
          "execution_count": 80
        }
      ]
    },
    {
      "cell_type": "code",
      "source": [
        "new1[new>=5]='large'\n"
      ],
      "metadata": {
        "id": "HRVr_ADs5sJC"
      },
      "execution_count": null,
      "outputs": []
    },
    {
      "cell_type": "code",
      "source": [
        "new1"
      ],
      "metadata": {
        "id": "NqUrf4OL5s_3",
        "outputId": "4c368cfa-9527-4737-a59f-be537160e737",
        "colab": {
          "base_uri": "https://localhost:8080/"
        }
      },
      "execution_count": null,
      "outputs": [
        {
          "output_type": "execute_result",
          "data": {
            "text/plain": [
              "array(['Small', 'Small', 'Small', 'Small', 'Small', 'Small', 'Small',\n",
              "       'Small', 'Small', 'Small', 'Small', 'Small', 'Small', 'Small',\n",
              "       'Small', 'Small', 'Small', 'Small', 'Small', 'Small', 'Small',\n",
              "       'Small', 'Small', 'Small', 'Small', 'Small', 'Small', 'Small',\n",
              "       'Small', 'Small', 'Small', 'Small', 'Small', 'Small', 'Small',\n",
              "       'Small', 'Small', 'Small', 'Small', 'Small', 'Small', 'Small',\n",
              "       'Small', 'Small', 'Small', 'Small', 'Small', 'Small', 'Small',\n",
              "       'Small', 'Medium', 'Medium', 'Medium', 'Medium', 'Medium',\n",
              "       'Medium', 'Medium', 'Medium', 'Medium', 'Medium', 'Medium',\n",
              "       'Medium', 'Medium', 'Medium', 'Medium', 'Medium', 'Medium',\n",
              "       'Medium', 'Medium', 'Medium', 'Medium', 'Medium', 'Medium',\n",
              "       'Medium', 'Medium', 'Medium', 'Medium', 'large', 'Medium',\n",
              "       'Medium', 'Medium', 'Medium', 'Medium', 'large', 'Medium',\n",
              "       'Medium', 'Medium', 'Medium', 'Medium', 'Medium', 'Medium',\n",
              "       'Medium', 'Medium', 'Medium', 'Medium', 'Medium', 'Medium',\n",
              "       'Medium', 'Medium', 'Medium', 'large', 'large', 'large', 'large',\n",
              "       'large', 'large', 'Medium', 'large', 'large', 'large', 'large',\n",
              "       'large', 'large', 'large', 'large', 'large', 'large', 'large',\n",
              "       'large', 'large', 'large', 'Medium', 'large', 'Medium', 'large',\n",
              "       'large', 'Medium', 'Medium', 'large', 'large', 'large', 'large',\n",
              "       'large', 'large', 'large', 'large', 'large', 'large', 'Medium',\n",
              "       'large', 'large', 'large', 'large', 'large', 'large', 'large',\n",
              "       'large', 'large', 'large', 'large'], dtype='<U15')"
            ]
          },
          "metadata": {},
          "execution_count": 82
        }
      ]
    }
  ]
}